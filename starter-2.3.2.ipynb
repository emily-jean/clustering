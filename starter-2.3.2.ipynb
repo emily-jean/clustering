{
 "cells": [
  {
   "cell_type": "markdown",
   "metadata": {},
   "source": [
    "# Imports (do NOT change/add)"
   ]
  },
  {
   "cell_type": "code",
   "execution_count": 1,
   "metadata": {
    "collapsed": true
   },
   "outputs": [],
   "source": [
    "import operator\n",
    "\n",
    "import csv\n",
    "import statistics as stats\n",
    "import math\n",
    "import random\n",
    "\n",
    "import matplotlib.pyplot as plt\n",
    "%matplotlib inline"
   ]
  },
  {
   "cell_type": "markdown",
   "metadata": {},
   "source": [
    "## 1. Load Wine Dataset\n",
    "Loading/analyzing a subset of the [wine dataset](http://archive.ics.uci.edu/ml/datasets/Wine)\n",
    "* Overlay histograms of the two features (alcohol, ascalinity)\n",
    "* Output count of points, as well as mean & sample standard deviation of the features"
   ]
  },
  {
   "cell_type": "code",
   "execution_count": 2,
   "metadata": {
    "collapsed": true
   },
   "outputs": [],
   "source": [
    "alcohol = []\n",
    "ascalinity = []\n",
    "\n",
    "with open('wine_data.csv', \"r\") as csvfile:\n",
    "    for row in csv.reader(csvfile):\n",
    "        alcohol.append(float(row[0]))\n",
    "        ascalinity.append(float(row[1]))\n",
    "\n",
    "# each entry is a tuple. returns an iterator that returns pairwise\n",
    "data = list(zip(alcohol, ascalinity))"
   ]
  },
  {
   "cell_type": "code",
   "execution_count": 3,
   "metadata": {},
   "outputs": [
    {
     "name": "stdout",
     "output_type": "stream",
     "text": [
      "178  points\n",
      "Alcohol: mean=13.00062 , std=0.81183\n",
      "Ascalinity: mean=19.49494 , std=3.33956\n"
     ]
    },
    {
     "data": {
      "image/png": "[encoded data removed]",
      "text/plain": [
       "<matplotlib.figure.Figure at 0x10a71b198>"
      ]
     },
     "metadata": {},
     "output_type": "display_data"
    }
   ],
   "source": [
    "# TODO\n",
    "# 1. Overlay histograms of the two features (alcohol, ascalinity)\n",
    "bins=range(10, 30, 1)\n",
    "\n",
    "plt.hist(alcohol,bins, label='alcohol',alpha=0.5)\n",
    "plt.hist(ascalinity,bins, label='ascalinity',alpha=0.5)\n",
    "plt.legend(loc='upper right')\n",
    "\n",
    "# 2. Output count of points, as well as mean & sample standard deviation of the features\n",
    "def mean(l):\n",
    "    if l != []:\n",
    "        newl = [float(i) for i in l]\n",
    "        average = sum(newl) / float(len(newl))\n",
    "        return average\n",
    "    return 0\n",
    "\n",
    "def sample_std(lst):\n",
    "    size = len(lst)\n",
    "    mean = sum(lst) / size\n",
    "    diffs = [x - mean for x in lst]\n",
    "    sq_diffs = [d ** 2 for d in diffs]\n",
    "    ssd = sum(sq_diffs)\n",
    "    variance = ssd / (size - 1)\n",
    "    return math.sqrt(variance)\n",
    "\n",
    "print(len(alcohol), \" points\")\n",
    "print(\"Alcohol: mean={:.5f}\".format(mean(alcohol)),\", std={:.5f}\".format(sample_std(alcohol)))\n",
    "print(\"Ascalinity: mean={:.5f}\".format(mean(ascalinity)),\", std={:.5f}\".format(sample_std(ascalinity)))\n"
   ]
  },
  {
   "cell_type": "markdown",
   "metadata": {},
   "source": [
    "# 2. Distance Metrics\n",
    "* Implement the sse function and the general minkowski distance function"
   ]
  },
  {
   "cell_type": "code",
   "execution_count": 4,
   "metadata": {
    "collapsed": true
   },
   "outputs": [],
   "source": [
    "# TODO\n",
    "# given two points returns the sum-squared-error between two points\n",
    "def sse(x1, x2):\n",
    "    return (x2[0] - x1[0])**2 + (x2[1] - x1[1])**2"
   ]
  },
  {
   "cell_type": "code",
   "execution_count": 5,
   "metadata": {
    "collapsed": true
   },
   "outputs": [],
   "source": [
    "# TODO\n",
    "# returns the minkowski distance between x1 and x2\n",
    "# euclidean and manhattan fall out of this\n",
    "def minkowski_distance(x1, x2, q):\n",
    "    return nroot(sum(pow(abs(x-y),q) for x,y in zip(x1, x2)),q)\n",
    "    #return 0\n",
    "\n",
    "def nroot(value, q):\n",
    "    root_value = 1/float(q)\n",
    "    return round(float(value) ** float(root_value),3)"
   ]
  },
  {
   "cell_type": "code",
   "execution_count": 6,
   "metadata": {
    "collapsed": true
   },
   "outputs": [],
   "source": [
    "# returns the L2 distance from x1 to x2\n",
    "def euclidean_distance(x1, x2):\n",
    "    return minkowski_distance(x1, x2, 2)"
   ]
  },
  {
   "cell_type": "code",
   "execution_count": 7,
   "metadata": {
    "collapsed": true
   },
   "outputs": [],
   "source": [
    "# returns the L1 distance from x1 to x2\n",
    "def manhattan_distance(x1, x2):\n",
    "    return minkowski_distance(x1, x2, 1)"
   ]
  },
  {
   "cell_type": "code",
   "execution_count": 8,
   "metadata": {},
   "outputs": [
    {
     "name": "stdout",
     "output_type": "stream",
     "text": [
      "SSE [0, 0] -> [3, 4] = 25.00000, expected=25.00000\n",
      "Euclidean [0, 0] -> [3, 4] = 5.00000, expected=5.00000\n",
      "Euclidean [3, 4] -> [0, 0] = 5.00000, expected=5.00000\n",
      "Manhattan [0, 0] -> [3, 4] = 7.00000, expected=7.00000\n",
      "Manhattan [3, 4] -> [0, 0] = 7.00000, expected=7.00000\n"
     ]
    }
   ],
   "source": [
    "t1 = [0,0]\n",
    "t2 = [3,4]\n",
    "\n",
    "print(\"SSE {} -> {} = {:.5f}, expected={:.5f}\".format(t1, t2, sse(t1, t2), 25.))\n",
    "\n",
    "print(\"Euclidean {} -> {} = {:.5f}, expected={:.5f}\".format(t1, t2, euclidean_distance(t1, t2), 5.))\n",
    "print(\"Euclidean {} -> {} = {:.5f}, expected={:.5f}\".format(t2, t1, euclidean_distance(t2, t1), 5.))\n",
    "\n",
    "print(\"Manhattan {} -> {} = {:.5f}, expected={:.5f}\".format(t1, t2, manhattan_distance(t1, t2), 7.))\n",
    "print(\"Manhattan {} -> {} = {:.5f}, expected={:.5f}\".format(t2, t1, manhattan_distance(t2, t1), 7.))"
   ]
  },
  {
   "cell_type": "markdown",
   "metadata": {},
   "source": [
    "# 3. K-Means\n",
    "* Implement choose_cluster (find the closest centroid w.r.t. a distance metric)\n",
    "* Implement k-means\n",
    "* Respond to a question regarding plotted clusterings"
   ]
  },
  {
   "cell_type": "code",
   "execution_count": 9,
   "metadata": {
    "collapsed": true
   },
   "outputs": [],
   "source": [
    "# TODO\n",
    "# Inputs: centroid locations, point, distance metric\n",
    "# Outputs: centroid index that is closest\n",
    "def choose_cluster(centroids, x, distance_metric):\n",
    "    best_index = 0\n",
    "    closest = distance_metric(centroids[0],x)\n",
    "    for index in range(len(centroids)):\n",
    "        dist = distance_metric(centroids[index],x)\n",
    "        if dist < closest:\n",
    "            closest = dist\n",
    "            best_index = index\n",
    "    return best_index\n",
    "    # min({idx:distance_metrix(x,c)})"
   ]
  },
  {
   "cell_type": "code",
   "execution_count": 10,
   "metadata": {
    "collapsed": true
   },
   "outputs": [],
   "source": [
    "# TODO\n",
    "# Inputs: \n",
    "#  initial_centroids: locations (length=K)\n",
    "#  data: data points (length=N)\n",
    "#  distance_metric: how to select the closest point in the e-step\n",
    "# \n",
    "# Outputs:\n",
    "#  centroids: locations (length=K)\n",
    "#  new_clusters: for each data point, index of associated cluster\n",
    "#  iterations: count of iterations taken\n",
    "#  total_sse: SSE of final clustering\n",
    "def kmeans(initial_centroids, data, distance_metric):\n",
    "    centroids = initial_centroids[:]\n",
    "    new_clusters = [-1] * len(data) # for each one of the pts what cluster do they go to\n",
    "    iterations = 0\n",
    "    total_sse = 0 # total sse of last iteration\n",
    "    old_centroids = centroids\n",
    "    while not has_converged(centroids,old_centroids,iterations):\n",
    "        index = 0\n",
    "        for x,y in data:\n",
    "            t = [x,y]\n",
    "            new_clusters[index] = choose_cluster(centroids, t, distance_metric)\n",
    "            index+=1\n",
    " \n",
    "        # recalc centriods\n",
    "        recalc_centriods = {}\n",
    "        for i, point in zip(new_clusters, data):\n",
    "            if i in recalc_centriods:\n",
    "                recalc_centriods[i].append(point)\n",
    "            else:\n",
    "                recalc_centriods[i] = [point]\n",
    "        old_centroids = centroids\n",
    "        sortedDict = {}\n",
    "        for key, value in sorted(recalc_centriods.items()):\n",
    "            sortedDict[key] = value\n",
    "        centroids = [calc_average(pts) for pts in sortedDict.values()]\n",
    "        iterations += 1\n",
    "        \n",
    "    total_sse = sum([sse(centroids[i],x2) for i,x2 in zip(new_clusters, data)])\n",
    "    #print(total_sse)\n",
    "    #print(iterations)\n",
    "    return centroids, new_clusters, iterations, total_sse\n",
    "\n",
    "def calc_average(pts):\n",
    "    size = len(pts)\n",
    "    return sum([x for x,y in pts])/size, sum([y for x, y in pts])/size\n",
    "\n",
    "def has_converged(centroids, old_centroids, iterations):\n",
    "    MAX = 100\n",
    "    if iterations == 0:\n",
    "        return False\n",
    "    elif iterations > MAX:\n",
    "        return True\n",
    "    return all([c[1]==oc[1] and c[0]==oc[0] for c,oc in zip(centroids, old_centroids)])\n",
    "    #old_centroids == centroids"
   ]
  },
  {
   "cell_type": "code",
   "execution_count": 11,
   "metadata": {
    "collapsed": true
   },
   "outputs": [],
   "source": [
    "def cluster_plot(centroids, data, clustering):\n",
    "    for i,c in enumerate(centroids):\n",
    "        points = [data[idx] for idx,c in enumerate(clustering) if c == i]\n",
    "        plt.scatter([d[0] for d in points], [d[1] for d in points], label=\"{}\".format(i))\n",
    "        plt.plot(c[0], c[1], 'kx', mew=5, ms=10)"
   ]
  },
  {
   "cell_type": "code",
   "execution_count": 12,
   "metadata": {
    "collapsed": true
   },
   "outputs": [],
   "source": [
    "initial_centroids = [data[175], data[25], data[67]]"
   ]
  },
  {
   "cell_type": "code",
   "execution_count": 13,
   "metadata": {
    "scrolled": false
   },
   "outputs": [
    {
     "data": {
      "image/png": "[encoded data removed]",
      "text/plain": [
       "<matplotlib.figure.Figure at 0x10a7e8b38>"
      ]
     },
     "metadata": {},
     "output_type": "display_data"
    }
   ],
   "source": [
    "centroids, clustering, _, _ = kmeans(initial_centroids, data, euclidean_distance)\n",
    "cluster_plot(centroids, data, clustering)"
   ]
  },
  {
   "cell_type": "code",
   "execution_count": 14,
   "metadata": {},
   "outputs": [
    {
     "data": {
      "image/png": "[encoded data removed]",
      "text/plain": [
       "<matplotlib.figure.Figure at 0x10a983780>"
      ]
     },
     "metadata": {},
     "output_type": "display_data"
    }
   ],
   "source": [
    "centroids, clustering, _, _ = kmeans(initial_centroids, data, manhattan_distance)\n",
    "cluster_plot(centroids, data, clustering)"
   ]
  },
  {
   "cell_type": "code",
   "execution_count": 15,
   "metadata": {},
   "outputs": [
    {
     "data": {
      "image/png": "[encoded data removed]",
      "text/plain": [
       "<matplotlib.figure.Figure at 0x10a9838d0>"
      ]
     },
     "metadata": {},
     "output_type": "display_data"
    }
   ],
   "source": [
    "centroids, clustering, _, _ = kmeans(initial_centroids, data, lambda x,y: minkowski_distance(x, y, 3))\n",
    "cluster_plot(centroids, data, clustering)"
   ]
  },
  {
   "cell_type": "markdown",
   "metadata": {},
   "source": [
    "## Q: What conclusion can you draw from these plots?\n",
    "When using the euclidean distance, we iterated through one time less. When using the manhanttan distance, our centroid locations varied more in comparison to the other two plots and the grouping appeared to be slightly different. Using the manhattan distance, the cluster assignment coloring had changed for the middle cluster as well. Overall, the plots are very similar."
   ]
  },
  {
   "cell_type": "markdown",
   "metadata": {},
   "source": [
    "# 4. Choosing K\n",
    "* Runs several trials of K-Means with different initial points (Forgy), recording SSE\n",
    "* Plot SSE vs K\n",
    "* Respond to the question below"
   ]
  },
  {
   "cell_type": "code",
   "execution_count": 16,
   "metadata": {},
   "outputs": [
    {
     "data": {
      "text/plain": [
       "<matplotlib.text.Text at 0x10ea6d048>"
      ]
     },
     "execution_count": 16,
     "metadata": {},
     "output_type": "execute_result"
    },
    {
     "data": {
      "image/png": "[encoded data removed]",
      "text/plain": [
       "<matplotlib.figure.Figure at 0x10ea34470>"
      ]
     },
     "metadata": {},
     "output_type": "display_data"
    }
   ],
   "source": [
    "# iterate from 1-10, 5 different ways for selecting diff locations\n",
    "# take average of sse's, then go on to the next one\n",
    "# random.sample\n",
    "max_clusters = 10\n",
    "trials = 5\n",
    "clusters = []\n",
    "sses = []\n",
    "random.seed(8675309)\n",
    "\n",
    "# TODO\n",
    "# 1. Perform 5 trials (randomizing initial points ala Forgy) for each of K=1, 2, ... 10\n",
    "i=0\n",
    "while i < trials:\n",
    "    for k in range(1,max_clusters+1):\n",
    "        centroids = [data[random.randint(0, 150)] for m in range(k)]\n",
    "        centroids, clustering, iterations, errors = kmeans(centroids, data, euclidean_distance)\n",
    "        if i != 0:\n",
    "            sses[k-1] += errors\n",
    "        else:\n",
    "            clusters.append(k)\n",
    "            sses.append(errors)\n",
    "    i+=1\n",
    "sses = [s / trials for s in sses]\n",
    "\n",
    "# 2. Plot SSE vs K\n",
    "plt.plot(clusters, sses)\n",
    "plt.xticks(range(1, len(clusters)+1, 1))\n",
    "plt.title('SSE vs Clusters')"
   ]
  },
  {
   "cell_type": "markdown",
   "metadata": {},
   "source": [
    "## Q: What is a reasonable value for K based upon this data -- why?\n",
    "When we plot K against SSE, as K gets larger the error decreases. Using the elbow method, this can help us choose K at the point in which SSE decreases abruptly. Looking at the graph, a reasonable K seems to be about 3 since that's where it looks like it 'bends'."
   ]
  }
 ],
 "metadata": {
  "kernelspec": {
   "display_name": "Python 3",
   "language": "python",
   "name": "python3"
  },
  "language_info": {
   "codemirror_mode": {
    "name": "ipython",
    "version": 3
   },
   "file_extension": ".py",
   "mimetype": "text/x-python",
   "name": "python",
   "nbconvert_exporter": "python",
   "pygments_lexer": "ipython3",
   "version": "3.6.1"
  }
 },
 "nbformat": 4,
 "nbformat_minor": 2
}
